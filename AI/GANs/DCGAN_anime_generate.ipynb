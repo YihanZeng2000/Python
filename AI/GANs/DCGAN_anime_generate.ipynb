{
 "cells": [
  {
   "cell_type": "code",
   "execution_count": 60,
   "metadata": {
    "execution": {
     "iopub.execute_input": "2022-06-10T06:33:47.683322Z",
     "iopub.status.busy": "2022-06-10T06:33:47.682939Z",
     "iopub.status.idle": "2022-06-10T06:33:47.688776Z",
     "shell.execute_reply": "2022-06-10T06:33:47.687943Z",
     "shell.execute_reply.started": "2022-06-10T06:33:47.683293Z"
    }
   },
   "outputs": [],
   "source": [
    "import torch\n",
    "import torch.nn as nn\n",
    "import numpy as np\n",
    "import matplotlib.pyplot as plt\n",
    "import pandas as pd\n",
    "import glob\n",
    "import os\n",
    "from PIL import Image\n",
    "from torch.utils import data\n",
    "from torchvision import transforms\n",
    "import torch.nn.functional as F\n",
    "import torchvision"
   ]
  },
  {
   "cell_type": "code",
   "execution_count": null,
   "metadata": {},
   "outputs": [],
   "source": [
    "# datasets: https://www.kaggle.com/datasets/soumikrakshit/anime-faces"
   ]
  },
  {
   "cell_type": "code",
   "execution_count": 61,
   "metadata": {
    "execution": {
     "iopub.execute_input": "2022-06-10T06:33:47.766912Z",
     "iopub.status.busy": "2022-06-10T06:33:47.766224Z",
     "iopub.status.idle": "2022-06-10T06:33:47.843285Z",
     "shell.execute_reply": "2022-06-10T06:33:47.842477Z",
     "shell.execute_reply.started": "2022-06-10T06:33:47.766876Z"
    }
   },
   "outputs": [],
   "source": [
    "imgs_path = glob.glob('../input/anime-faces/data/*png')"
   ]
  },
  {
   "cell_type": "code",
   "execution_count": 62,
   "metadata": {
    "execution": {
     "iopub.execute_input": "2022-06-10T06:33:47.863857Z",
     "iopub.status.busy": "2022-06-10T06:33:47.861771Z",
     "iopub.status.idle": "2022-06-10T06:33:48.483090Z",
     "shell.execute_reply": "2022-06-10T06:33:48.482237Z",
     "shell.execute_reply.started": "2022-06-10T06:33:47.863810Z"
    }
   },
   "outputs": [],
   "source": [
    "plt.figure(figsize=(12,8))\n",
    "for i, img_path in enumerate(imgs_path[:6]):\n",
    "    img = np.array(Image.open(img_path))\n",
    "    plt.subplot(2,3,i+1)\n",
    "    plt.imshow(img)\n",
    "    print(img.shape)"
   ]
  },
  {
   "cell_type": "code",
   "execution_count": 63,
   "metadata": {
    "execution": {
     "iopub.execute_input": "2022-06-10T06:33:48.485595Z",
     "iopub.status.busy": "2022-06-10T06:33:48.485067Z",
     "iopub.status.idle": "2022-06-10T06:33:48.491647Z",
     "shell.execute_reply": "2022-06-10T06:33:48.490635Z",
     "shell.execute_reply.started": "2022-06-10T06:33:48.485537Z"
    }
   },
   "outputs": [],
   "source": [
    "transform = transforms.Compose([\n",
    "    transforms.ToTensor(),\n",
    "    transforms.Normalize(mean=0.5,std=0.5)  #图像规范化到[-1,1]\n",
    "])"
   ]
  },
  {
   "cell_type": "code",
   "execution_count": 64,
   "metadata": {
    "execution": {
     "iopub.execute_input": "2022-06-10T06:33:48.493528Z",
     "iopub.status.busy": "2022-06-10T06:33:48.493011Z",
     "iopub.status.idle": "2022-06-10T06:33:48.501378Z",
     "shell.execute_reply": "2022-06-10T06:33:48.500385Z",
     "shell.execute_reply.started": "2022-06-10T06:33:48.493488Z"
    }
   },
   "outputs": [],
   "source": [
    "class Face_dataset(data.Dataset):\n",
    "    def __init__(self, imgs_path):\n",
    "        self.imgs_path = imgs_path\n",
    "\n",
    "    def __getitem__(self, index):\n",
    "        img_path = self.imgs_path[index]\n",
    "        pil_img = Image.open(img_path)\n",
    "        pil_img = transform(pil_img)\n",
    "        return pil_img\n",
    "    \n",
    "    def __len__(self):\n",
    "        return len(self.imgs_path)"
   ]
  },
  {
   "cell_type": "code",
   "execution_count": 65,
   "metadata": {
    "execution": {
     "iopub.execute_input": "2022-06-10T06:33:48.503869Z",
     "iopub.status.busy": "2022-06-10T06:33:48.503387Z",
     "iopub.status.idle": "2022-06-10T06:33:48.510382Z",
     "shell.execute_reply": "2022-06-10T06:33:48.509611Z",
     "shell.execute_reply.started": "2022-06-10T06:33:48.503831Z"
    }
   },
   "outputs": [],
   "source": [
    "dataset = Face_dataset(imgs_path)"
   ]
  },
  {
   "cell_type": "code",
   "execution_count": 66,
   "metadata": {
    "execution": {
     "iopub.execute_input": "2022-06-10T06:33:48.513374Z",
     "iopub.status.busy": "2022-06-10T06:33:48.511818Z",
     "iopub.status.idle": "2022-06-10T06:33:48.520562Z",
     "shell.execute_reply": "2022-06-10T06:33:48.519751Z",
     "shell.execute_reply.started": "2022-06-10T06:33:48.513342Z"
    }
   },
   "outputs": [],
   "source": [
    "BATCHSIZE = 32\n",
    "dataloader = data.DataLoader(dataset,\n",
    "                            batch_size=BATCHSIZE,\n",
    "                            shuffle=True)"
   ]
  },
  {
   "cell_type": "code",
   "execution_count": 67,
   "metadata": {
    "execution": {
     "iopub.execute_input": "2022-06-10T06:33:48.522609Z",
     "iopub.status.busy": "2022-06-10T06:33:48.522060Z",
     "iopub.status.idle": "2022-06-10T06:33:49.534950Z",
     "shell.execute_reply": "2022-06-10T06:33:49.533947Z",
     "shell.execute_reply.started": "2022-06-10T06:33:48.522535Z"
    }
   },
   "outputs": [],
   "source": [
    "imgs_batch = next(iter(dataloader))    # 返回一个批次的训练数据\n",
    "# 绘制批次中前6张图片  \n",
    "plt.figure(figsize=(12, 8))\n",
    "for i, img in enumerate(imgs_batch[:6]):\n",
    "     # 设置channel最后，并还原到取值0-1之间\n",
    "    img = (img.permute(1, 2, 0).numpy() + 1)/2  \n",
    "    plt.subplot(2, 3, i+1)\n",
    "    plt.imshow(img)"
   ]
  },
  {
   "cell_type": "code",
   "execution_count": 68,
   "metadata": {
    "execution": {
     "iopub.execute_input": "2022-06-10T06:33:49.537085Z",
     "iopub.status.busy": "2022-06-10T06:33:49.536491Z",
     "iopub.status.idle": "2022-06-10T06:33:49.548940Z",
     "shell.execute_reply": "2022-06-10T06:33:49.548133Z",
     "shell.execute_reply.started": "2022-06-10T06:33:49.537047Z"
    }
   },
   "outputs": [],
   "source": [
    "#定义生成器\n",
    "class Generator(nn.Module):\n",
    "    def __init__(self):\n",
    "        super(Generator, self).__init__()\n",
    "        self.linear1 = nn.Linear(100, 256*16*16)\n",
    "        self.bn1 = nn.BatchNorm1d(256*16*16)\n",
    "        self.deconv1 = nn.ConvTranspose2d(256, 128, \n",
    "                                          kernel_size=(3, 3), \n",
    "                                          padding=1)\n",
    "        self.bn2 = nn.BatchNorm2d(128)\n",
    "        self.deconv2 = nn.ConvTranspose2d(128, 64, \n",
    "                                          kernel_size=(4, 4),\n",
    "                                          stride=2, \n",
    "                                          padding=1)\n",
    "        self.bn3 = nn.BatchNorm2d(64)\n",
    "        self.deconv3 = nn.ConvTranspose2d(64, 3, \n",
    "                                          kernel_size=(4, 4), \n",
    "                                          stride=2, \n",
    "                                          padding=1)\n",
    "            \n",
    "    def forward(self, x):\n",
    "        x = F.relu(self.linear1(x))\n",
    "        x = self.bn1(x)\n",
    "        x = x.view(-1, 256, 16, 16)\n",
    "        x = F.relu(self.deconv1(x))\n",
    "        x = self.bn2(x)\n",
    "        x = F.relu(self.deconv2(x))\n",
    "        x = self.bn3(x)\n",
    "        x =torch.tanh(self.deconv3(x))\n",
    "        return x"
   ]
  },
  {
   "cell_type": "code",
   "execution_count": 69,
   "metadata": {
    "execution": {
     "iopub.execute_input": "2022-06-10T06:33:49.557309Z",
     "iopub.status.busy": "2022-06-10T06:33:49.550524Z",
     "iopub.status.idle": "2022-06-10T06:33:49.570037Z",
     "shell.execute_reply": "2022-06-10T06:33:49.567863Z",
     "shell.execute_reply.started": "2022-06-10T06:33:49.557264Z"
    }
   },
   "outputs": [],
   "source": [
    "# 定义判别器\n",
    "class Discriminator(nn.Module):\n",
    "    def __init__(self):\n",
    "        super(Discriminator, self).__init__()\n",
    "        self.conv1 = nn.Conv2d(3, 64, 3, 2)\n",
    "        self.conv2 = nn.Conv2d(64, 128, 3, 2)\n",
    "        self.bn = nn.BatchNorm2d(128)\n",
    "        self.fc = nn.Linear(128*15*15, 1)\n",
    "\n",
    "    def forward(self, x):\n",
    "        x = F.dropout2d(F.leaky_relu(self.conv1(x)), p=0.5)\n",
    "        x = F.dropout2d(F.leaky_relu(self.conv2(x)), p=0.5)\n",
    "        x = self.bn(x)\n",
    "        x = x.view(-1, 128*15*15)\n",
    "        x = torch.sigmoid(self.fc(x))\n",
    "        return x"
   ]
  },
  {
   "cell_type": "code",
   "execution_count": 70,
   "metadata": {
    "execution": {
     "iopub.execute_input": "2022-06-10T06:33:49.572979Z",
     "iopub.status.busy": "2022-06-10T06:33:49.572120Z",
     "iopub.status.idle": "2022-06-10T06:33:49.707760Z",
     "shell.execute_reply": "2022-06-10T06:33:49.706339Z",
     "shell.execute_reply.started": "2022-06-10T06:33:49.572925Z"
    }
   },
   "outputs": [],
   "source": [
    "device = \"cuda\" if torch.cuda.is_available() else \"cpu\"\n",
    "gen = Generator().to(device)\n",
    "dis = Discriminator().to(device)\n",
    "loss_fn = torch.nn.BCELoss()                   # 定义损失函数\n",
    "d_optimizer = torch.optim.Adam(dis.parameters(), lr=0.00001)\n",
    "g_optimizer = torch.optim.Adam(gen.parameters(), lr=0.0001)\n",
    "# 定义可视化函数\n",
    "def generate_and_save_images(model, epoch, test_input):\n",
    "    # np.squeeze去掉长度为1的维度\n",
    "    predictions = model(test_input).permute(0, 2, 3, 1).cpu().numpy()\n",
    "    fig = plt.figure(figsize=(20, 160))                             # 可视化16张图片\n",
    "    for i in range(predictions.shape[0]):\n",
    "        plt.subplot(1, 8, i+1)\n",
    "        plt.imshow((predictions[i] + 1)/2)          # 注意取值范围的转换\n",
    "        plt.axis('off')\n",
    "    # plt.savefig('image_at_epoch_{:04d}.png'.format(epoch))\n",
    "    plt.show()\n",
    "# 设置生成绘图图片的随机张量，这里可视化16张图片\n",
    "# 生成16个长度为100的随机正态分布张量\n",
    "test_seed = torch.randn(8, 100, device=device)"
   ]
  },
  {
   "cell_type": "code",
   "execution_count": 75,
   "metadata": {
    "execution": {
     "iopub.execute_input": "2022-06-10T07:34:31.097297Z",
     "iopub.status.busy": "2022-06-10T07:34:31.096945Z",
     "iopub.status.idle": "2022-06-10T07:34:31.105273Z",
     "shell.execute_reply": "2022-06-10T07:34:31.104530Z",
     "shell.execute_reply.started": "2022-06-10T07:34:31.097269Z"
    }
   },
   "outputs": [],
   "source": [
    "D_loss = []                          # 记录训练过程中判别器loss变化\n",
    "G_loss = []                          # 记录训练过程中生成器loss变化\n",
    "\n",
    "#开始训练\n",
    "for epoch in range(100):\n",
    "    D_epoch_loss=0\n",
    "    G_epoch_loss=0\n",
    "    count = len(dataloader.dataset)\n",
    "    for step, img in enumerate(dataloader):\n",
    "        img = img.to(device)\n",
    "        size=img.shape[0]\n",
    "        random_seed = torch.randn(size, 100, device=device)   # 生成随机输入\n",
    "        \n",
    "        d_optimizer.zero_grad()\n",
    "        real_output = dis(img)              # 判别器输入真实图片\n",
    "        d_real_loss = loss_fn(real_output, \n",
    "                              torch.ones_like(real_output, device=device))\n",
    "        d_real_loss.backward()\n",
    "        # 生成器输入随机张量得到生成图片\n",
    "        generated_img = gen(random_seed) \n",
    "        # 判别器输入生成图像，注意此处的detach方法\n",
    "        fake_output = dis(generated_img.detach()) \n",
    "        d_fake_loss = loss_fn(fake_output, \n",
    "                              torch.zeros_like(fake_output, device=device))\n",
    "        d_fake_loss.backward()\n",
    "        \n",
    "        disc_loss = d_real_loss + d_fake_loss      # 判别器的总损失\n",
    "        d_optimizer.step()\n",
    "        \n",
    "        g_optimizer.zero_grad()\n",
    "        fake_output = dis(generated_img)           # 判别器输入生成图像\n",
    "        gen_loss = loss_fn(fake_output, \n",
    "                           torch.ones_like(fake_output, device=device))\n",
    "        gen_loss.backward()\n",
    "        g_optimizer.step()\n",
    "        \n",
    "        with torch.no_grad():\n",
    "            D_epoch_loss += disc_loss.item()\n",
    "            G_epoch_loss += gen_loss.item()\n",
    "    with torch.no_grad():        \n",
    "        D_epoch_loss /= count\n",
    "        G_epoch_loss /= count\n",
    "        D_loss.append(D_epoch_loss)\n",
    "        G_loss.append(G_epoch_loss)\n",
    "        # 训练完一个Epoch，打印提示并绘制生成的图片\n",
    "        print(\"Epoch:\", epoch)\n",
    "        generate_and_save_images(gen, epoch, test_seed) "
   ]
  },
  {
   "cell_type": "code",
   "execution_count": 74,
   "metadata": {
    "execution": {
     "iopub.execute_input": "2022-06-10T07:33:39.443619Z",
     "iopub.status.busy": "2022-06-10T07:33:39.443230Z",
     "iopub.status.idle": "2022-06-10T07:33:39.449354Z",
     "shell.execute_reply": "2022-06-10T07:33:39.448004Z",
     "shell.execute_reply.started": "2022-06-10T07:33:39.443580Z"
    }
   },
   "outputs": [],
   "source": [
    "plt.plot(range(1, len(D_loss)+1), D_loss, label='D_loss')\n",
    "plt.plot(range(1, len(D_loss)+1), G_loss, label='G_loss')\n",
    "plt.xlabel('epoch')\n",
    "plt.legend()\n",
    "plt.show()"
   ]
  },
  {
   "cell_type": "code",
   "execution_count": null,
   "metadata": {},
   "outputs": [],
   "source": []
  },
  {
   "cell_type": "code",
   "execution_count": null,
   "metadata": {},
   "outputs": [],
   "source": []
  },
  {
   "cell_type": "code",
   "execution_count": null,
   "metadata": {},
   "outputs": [],
   "source": []
  },
  {
   "cell_type": "code",
   "execution_count": null,
   "metadata": {},
   "outputs": [],
   "source": []
  },
  {
   "cell_type": "code",
   "execution_count": null,
   "metadata": {},
   "outputs": [],
   "source": []
  },
  {
   "cell_type": "code",
   "execution_count": null,
   "metadata": {},
   "outputs": [],
   "source": []
  },
  {
   "cell_type": "code",
   "execution_count": null,
   "metadata": {},
   "outputs": [],
   "source": []
  },
  {
   "cell_type": "code",
   "execution_count": null,
   "metadata": {},
   "outputs": [],
   "source": []
  },
  {
   "cell_type": "code",
   "execution_count": null,
   "metadata": {},
   "outputs": [],
   "source": []
  },
  {
   "cell_type": "code",
   "execution_count": null,
   "metadata": {},
   "outputs": [],
   "source": []
  },
  {
   "cell_type": "code",
   "execution_count": null,
   "metadata": {},
   "outputs": [],
   "source": []
  },
  {
   "cell_type": "code",
   "execution_count": null,
   "metadata": {},
   "outputs": [],
   "source": []
  },
  {
   "cell_type": "code",
   "execution_count": null,
   "metadata": {},
   "outputs": [],
   "source": []
  }
 ],
 "metadata": {
  "kernelspec": {
   "display_name": "Python 3",
   "language": "python",
   "name": "python3"
  },
  "language_info": {
   "codemirror_mode": {
    "name": "ipython",
    "version": 3
   },
   "file_extension": ".py",
   "mimetype": "text/x-python",
   "name": "python",
   "nbconvert_exporter": "python",
   "pygments_lexer": "ipython3",
   "version": "3.8.5"
  }
 },
 "nbformat": 4,
 "nbformat_minor": 4
}
